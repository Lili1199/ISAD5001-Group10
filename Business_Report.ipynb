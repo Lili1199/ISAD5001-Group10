{
  "nbformat": 4,
  "nbformat_minor": 0,
  "metadata": {
    "colab": {
      "provenance": [],
      "include_colab_link": true
    },
    "kernelspec": {
      "name": "python3",
      "display_name": "Python 3"
    },
    "language_info": {
      "name": "python"
    }
  },
  "cells": [
    {
      "cell_type": "markdown",
      "metadata": {
        "id": "view-in-github",
        "colab_type": "text"
      },
      "source": [
        "<a href=\"https://colab.research.google.com/github/Lili1199/ISAD5001-Group10/blob/main/Business_Report.ipynb\" target=\"_parent\"><img src=\"https://colab.research.google.com/assets/colab-badge.svg\" alt=\"Open In Colab\"/></a>"
      ]
    },
    {
      "cell_type": "markdown",
      "source": [
        "\n",
        "\n",
        "**BUSINESS REPORT NOTEBOOK:**\n",
        "Cardiovascular Health Analysis"
      ],
      "metadata": {
        "id": "J1Vo9wb7RWXZ"
      }
    },
    {
      "cell_type": "markdown",
      "source": [
        "**Problem solving methodology**"
      ],
      "metadata": {
        "id": "2CnD4wyzNNen"
      }
    },
    {
      "cell_type": "markdown",
      "source": [
        "1.State the problem clearly\n",
        "\n",
        "2.Describe the input and output information\n",
        "\n",
        "3.Work the problem by hand\n",
        "\n",
        "4.Develop an algorithm\n",
        "\n",
        "5.Convert algorithm/pseudocode into Python code\n",
        "\n",
        "6.Test solution with a variety of data"
      ],
      "metadata": {
        "id": "oHEv9nXFNZVS"
      }
    },
    {
      "cell_type": "markdown",
      "source": [
        "**Inputs and Outputs Analysis**"
      ],
      "metadata": {
        "id": "NUss34x7NbRr"
      }
    },
    {
      "cell_type": "markdown",
      "source": [
        "### Inputs for Analysis:\n"
      ],
      "metadata": {
        "id": "jdYC7Kz-NdaZ"
      }
    },
    {
      "cell_type": "markdown",
      "source": [
        "Cardiovascular health dataset as SQLite database (cardiohealth.db)"
      ],
      "metadata": {
        "id": "-KuQ6HgzNfrs"
      }
    },
    {
      "cell_type": "markdown",
      "source": [
        "### Outputs:"
      ],
      "metadata": {
        "id": "dZF_KYSGNjsc"
      }
    },
    {
      "cell_type": "markdown",
      "source": [
        "Data Analysis 1:\n",
        "Visualization of Gender and Smoking Influence on Cardiovascular Disease"
      ],
      "metadata": {
        "id": "S-WGTBK8NqwO"
      }
    },
    {
      "cell_type": "markdown",
      "source": [
        "*   a) Visualizing the relationship between smoking and gender and its impact on cardiovascular disease.\n",
        "*   b) Highlighting the risk difference between gender and smoking status."
      ],
      "metadata": {
        "id": "Ol1a4n-fNtcG"
      }
    },
    {
      "cell_type": "markdown",
      "source": [
        "Data Analysis 2: Visualization of Age Group and Cholesterol Influence on Cardiovascular Disease"
      ],
      "metadata": {
        "id": "bs04OUJHNwBC"
      }
    },
    {
      "cell_type": "markdown",
      "source": [
        "* a) Plotting a line graph to visualize how cholesterol levels and age group relate to cardiovascular disease\n",
        "* b)  Exploring how different age groups and cholesterol levels contribute to cardiovascular disease risk"
      ],
      "metadata": {
        "id": "fCrrdNKxNy7m"
      }
    },
    {
      "cell_type": "markdown",
      "source": [
        "Data Analysis 3: Visualization of Glucose Levels and Physical Activity Influence on Cardiovascular Disease"
      ],
      "metadata": {
        "id": "uqP-e7oyN0st"
      }
    },
    {
      "cell_type": "markdown",
      "source": [
        "* a) Creating a grouped bar chart to visualize the influence of glucose levels and physical activity on cardiovascular disease\n",
        "* b) Showing how these factors vary across different age groups"
      ],
      "metadata": {
        "id": "dSMUJtjjN2TG"
      }
    },
    {
      "cell_type": "markdown",
      "source": [
        "### Example Data and Analysis(Work the problem by Hand)"
      ],
      "metadata": {
        "id": "xfCzWDDsN6CF"
      }
    },
    {
      "cell_type": "markdown",
      "source": [
        "| id  | age   | gender | height | weight | ap_hi | ap_lo | cholesterol | gluc | smoke | alco | active | cardio |\n",
        "|-----|-------|--------|--------|--------|-------|-------|-------------|------|-------|------|--------|--------|\n",
        "| 0   | 18393 | 2      | 168    | 62.0   | 110   | 80    | 1           | 1    | 0     | 0    | 1      | 0      |\n",
        "| 1   | 20228 | 1      | 156    | 85.0   | 140   | 90    | 3           | 1    | 0     | 0    | 1      | 1      |\n",
        "| 2   | 18857 | 1      | 165    | 64.0   | 130   | 70    | 3           | 1    | 0     | 0    | 0      | 1      |\n",
        "| 3   | 17623 | 2      | 169    | 82.0   | 150   | 100   | 1           | 1    | 0     | 0    | 1      | 1      |\n",
        "| 4   | 17474 | 1      | 156    | 56.0   | 100   | 60    | 1           | 1    | 0     | 0    | 0      | 0      |\n"
      ],
      "metadata": {
        "id": "jRMqxQfHN8Ql"
      }
    },
    {
      "cell_type": "markdown",
      "source": [
        "Based on the above data:"
      ],
      "metadata": {
        "id": "rJjn7eKUOAQv"
      }
    },
    {
      "cell_type": "markdown",
      "source": [
        "In this sample, cardiovascular disease appears more prevalent among females (gender 1).\n",
        "All individuals without cardiovascular disease are males (gender 2)."
      ],
      "metadata": {
        "id": "Va2Do-KtOCab"
      }
    },
    {
      "cell_type": "markdown",
      "source": [
        "**Step 1** Connect to SQLite Database and Load Data"
      ],
      "metadata": {
        "id": "c4eCn2ng7Lb3"
      }
    },
    {
      "cell_type": "markdown",
      "source": [
        " **Pseudocode:**\n",
        "\n",
        "1. Import necessary libraries (sqlite3 and pandas).\n",
        "2. Connect to the SQLite database.\n",
        "3. Execute a query to retrieve all data from the 'medical_examination' table.\n",
        "4. Load the query results into a pandas DataFrame.\n",
        "5. Close the database connection.\n",
        "6. Display the first few rows of the data to check the loaded data."
      ],
      "metadata": {
        "id": "IHUiAH9C7gAW"
      }
    },
    {
      "cell_type": "markdown",
      "source": [
        "**Step 2** Check for Missing Values and Remove Outliers"
      ],
      "metadata": {
        "id": "Ukkbd09m-FlS"
      }
    },
    {
      "cell_type": "markdown",
      "source": [
        "**Pseudocode:**\n",
        "1. Check for missing values in all columns of the DataFrame.\n",
        "2. Print the number of missing values for each column.\n",
        "3. Use the describe function to generate summary statistics for height, weight, ap_hi, and ap_lo.\n",
        "4. Define plausible ranges for height (120-220 cm), weight (30-200 kg), ap_hi (80-200), and ap_lo (40-120).\n",
        "5. Filter out rows where the values in height, weight, ap_hi, or ap_lo fall outside these plausible ranges.\n",
        "6. Print the number of remaining rows after removing outliers."
      ],
      "metadata": {
        "id": "fZZF1ETM8-1G"
      }
    },
    {
      "cell_type": "markdown",
      "source": [
        "**Step 3** Preprocess Data (Convert Age from Days to Years)\n"
      ],
      "metadata": {
        "id": "fjX0Ct7U8Ahl"
      }
    },
    {
      "cell_type": "markdown",
      "source": [
        "**Pseudocode:**\n",
        "1. Convert the 'age' column from days to years by dividing by 365.\n",
        "2. Store the result in a new column called 'age_years'.\n",
        "3. Display the first few rows to check the new 'age_years' column.\n"
      ],
      "metadata": {
        "id": "0JfBuYia8EFE"
      }
    },
    {
      "cell_type": "markdown",
      "source": [
        "**Step 4** Analyze Gender and Smoking (Demographic + Lifestyle Factors)"
      ],
      "metadata": {
        "id": "PTvmZvuR8Ofo"
      }
    },
    {
      "cell_type": "markdown",
      "source": [
        "**Pseudocode:**\n",
        "1. Group the data by gender and smoking status.\n",
        "2. For each group (gender and smoking status), calculate the mean presence of cardiovascular disease.\n",
        "3. Replace numerical gender values (1 for Female, 2 for Male) with descriptive labels.\n",
        "4. Replace numerical smoking status (0 for Non-Smoker, 1 for Smoker) with descriptive labels.\n",
        "5. Display the grouped data."
      ],
      "metadata": {
        "id": "b6HcqiFD8YLC"
      }
    },
    {
      "cell_type": "markdown",
      "source": [
        "**Step 5** Visualize Gender and Smoking Influence on Cardiovascular Disease"
      ],
      "metadata": {
        "id": "tx6e81gg8QV_"
      }
    },
    {
      "cell_type": "markdown",
      "source": [
        "**Pseudocode:**\n",
        "1. Set up a bar plot to visualize the relationship between smoking status and cardiovascular disease for each gender.\n",
        "2. For each gender, plot bars representing the mean cardiovascular disease presence for smokers and non-smokers.\n",
        "3. Label the x-axis with smoking status and the y-axis with the proportion of cardiovascular disease.\n",
        "4. Add a title and a legend to differentiate between genders.\n",
        "5. Show the plot."
      ],
      "metadata": {
        "id": "FbPoxjwK8Yts"
      }
    },
    {
      "cell_type": "markdown",
      "source": [
        "**Inputs:**"
      ],
      "metadata": {
        "id": "3D10b0bpbiKN"
      }
    },
    {
      "cell_type": "markdown",
      "source": [
        "1.  Gender: Categories include \"Female\" and \"Male\".\n",
        "2.  Smoking Status: Categories include \"Non-Smoker\" and \"Smoker\".\n",
        "3.  Cardiovascular Disease (cardio): Average presence of cardiovascular disease for each gender and smoking status combination."
      ],
      "metadata": {
        "id": "vySUvUWFbk4o"
      }
    },
    {
      "cell_type": "markdown",
      "source": [
        "**Outputs:**"
      ],
      "metadata": {
        "id": "t-AmoRZGb4CU"
      }
    },
    {
      "cell_type": "markdown",
      "source": [
        "1.  Bar Chart: Shows cardiovascular disease by gender and smoking status.\n",
        "2.  Proportions: Displays disease rates for each group.\n",
        "3.  Comparison: Highlights differences between genders and smoking habits."
      ],
      "metadata": {
        "id": "6RiG4x9Eb69m"
      }
    },
    {
      "cell_type": "markdown",
      "source": [
        "**Analysis Conclusion:**"
      ],
      "metadata": {
        "id": "x8cm7ZW0g_dD"
      }
    },
    {
      "cell_type": "markdown",
      "source": [
        "\n",
        "1.  Smokers, especially males, show a higher proportion of cardiovascular disease, indicating smoking as a stronger risk factor for males.\n",
        "\n",
        "2.  Non-smokers have a lower disease proportion, supporting the link between a healthier lifestyle and reduced risk.\n",
        "\n",
        "3.  Males have a higher disease proportion in both smoker and non-smoker groups, suggesting a greater overall risk for men, especially if they smoke."
      ],
      "metadata": {
        "id": "JopKGA8cg-fI"
      }
    },
    {
      "cell_type": "markdown",
      "source": [
        "**Improvement:**"
      ],
      "metadata": {
        "id": "B8r0-p0VhUJ2"
      }
    },
    {
      "cell_type": "markdown",
      "source": [
        "1.  Unclear label \"3\" in the legend, which may suggest some data needs to be cleaned or that there is an unintended category.\n",
        "\n",
        "2.  Ensure that colors are clearly distinct to make gender categories more obvious."
      ],
      "metadata": {
        "id": "TTvhqTpPhV9K"
      }
    },
    {
      "cell_type": "markdown",
      "source": [
        "**Step 6** Analyze Age Group and Cholesterol (Demographic + Clinical Factors)"
      ],
      "metadata": {
        "id": "g64OiJD18RtL"
      }
    },
    {
      "cell_type": "markdown",
      "source": [
        "**Pseudocode:**\n",
        "1. Create age group bins (<30, 30-40, 40-50, 50-60, 60+).\n",
        "2. Group the data by age group and cholesterol levels.\n",
        "3. For each group, calculate the mean presence of cardiovascular disease.\n",
        "4. Replace numerical cholesterol levels (1 for Normal, 2 for Above Normal, 3 for Well Above Normal) with descriptive labels.\n",
        "5. Display the grouped data."
      ],
      "metadata": {
        "id": "OmAxdjTr8ZVL"
      }
    },
    {
      "cell_type": "markdown",
      "source": [
        "**Step 7** Visualize Age Group and Cholesterol Influence on Cardiovascular Disease"
      ],
      "metadata": {
        "id": "oeRlFpXQ8Tdd"
      }
    },
    {
      "cell_type": "markdown",
      "source": [
        "**Pseudocode:**\n",
        "1. Set up a line plot to visualize the relationship between cholesterol levels and cardiovascular disease for each age group.\n",
        "2. For each age group, plot the mean cardiovascular disease presence for each cholesterol level.\n",
        "3. Label the x-axis with cholesterol levels and the y-axis with the proportion of cardiovascular disease.\n",
        "4. Add a title and a legend to differentiate between age groups.\n",
        "5. Show the plot."
      ],
      "metadata": {
        "id": "W5CEeA4f8ajK"
      }
    },
    {
      "cell_type": "markdown",
      "source": [
        "**Inputs and Outputs:**"
      ],
      "metadata": {
        "id": "zFJ0tlXIhy5X"
      }
    },
    {
      "cell_type": "markdown",
      "source": [
        "1.  Age Group: '<30', '30-40', '40-50', '50-60', '60+'.\n",
        "2.  Cholesterol: 'Normal', 'Above Normal', 'Well Above Normal'.\n",
        "3.  Cardiovascular Disease (cardio): Average disease presence for each age group and cholesterol level."
      ],
      "metadata": {
        "id": "oMGD4Wzph3q8"
      }
    },
    {
      "cell_type": "markdown",
      "source": [
        "**Outputs:**\n"
      ],
      "metadata": {
        "id": "assnNEJEh7gM"
      }
    },
    {
      "cell_type": "markdown",
      "source": [
        "1.  Line Plot: Visualizing cardiovascular disease by cholesterol levels and age groups.\n",
        "2.  Proportions: Display disease rates across age groups and cholesterol levels.\n",
        "3.  Comparison: Highlight differences in disease presence across age groups and cholesterol levels.\n"
      ],
      "metadata": {
        "id": "0nwMZyGih-A1"
      }
    },
    {
      "cell_type": "markdown",
      "source": [
        "**Analysis Conclusion:**"
      ],
      "metadata": {
        "id": "-ev8U42hgAl2"
      }
    },
    {
      "cell_type": "markdown",
      "source": [
        "1.  Older age groups, especially 60+, consistently show a higher disease proportion at all cholesterol levels, highlighting age as a key risk factor.\n",
        "\n",
        "2.  Individuals under 30 have a significantly lower disease proportion, even with high cholesterol, though their risk still rises with cholesterol levels."
      ],
      "metadata": {
        "id": "Aok6N86PgRli"
      }
    },
    {
      "cell_type": "markdown",
      "source": [
        "**Improvement:**"
      ],
      "metadata": {
        "id": "8f7dxvPaf_Zi"
      }
    },
    {
      "cell_type": "markdown",
      "source": [
        "Assumption of linear relationship between all variables and cardiovascular disease might overlook nonlinear patterns. Consider using nonlinear models or segmented regression to better capture complex relationships."
      ],
      "metadata": {
        "id": "7y5xvP11f_u4"
      }
    },
    {
      "cell_type": "markdown",
      "source": [
        "**Step 8 & 9** Analyze Glucose Levels and Physical Activity (Demographic + Clinical + Lifestyle Factors)"
      ],
      "metadata": {
        "id": "cVd8j5J88Ug9"
      }
    },
    {
      "cell_type": "markdown",
      "source": [
        "**Pseudocode:**\n",
        "1. Group the data by age group, glucose levels, and physical activity status.\n",
        "2. For each combination of age group, glucose level, and physical activity status, calculate the mean presence of cardiovascular disease.\n",
        "3. Display the grouped data."
      ],
      "metadata": {
        "id": "oTRigNEe8bPO"
      }
    },
    {
      "cell_type": "markdown",
      "source": [
        "**Inputs:**"
      ],
      "metadata": {
        "id": "FUNadW9YiuDw"
      }
    },
    {
      "cell_type": "markdown",
      "source": [
        "1.  Age Group:Age categories \"<30\", \"30-40\", \"40-50\".\n",
        "2.  Glucose Level: 1 (Normal), 2 (Above Normal), 3 (Well Above Normal).\n",
        "3.  Physical Activity: 1 (Active), 0 (Inactive).\n",
        "4.  Cardiovascular Disease (cardio): Proportion of individuals with the disease."
      ],
      "metadata": {
        "id": "GHpsXBYPkUuV"
      }
    },
    {
      "cell_type": "markdown",
      "source": [
        "**Outputs:**"
      ],
      "metadata": {
        "id": "0wHuYCAQ-16F"
      }
    },
    {
      "cell_type": "markdown",
      "source": [
        "1.  Bar Chart: Visualizes cardiovascular disease by glucose levels, age group, and physical activity.\n",
        "2.  Proportions: Displays disease presence for each factor combination.\n",
        "3.  Comparison: Highlights the influence of glucose, age, and activity on disease risk."
      ],
      "metadata": {
        "id": "OIWdycgsi2VO"
      }
    },
    {
      "cell_type": "markdown",
      "source": [
        "**Analysis Conclusion:**"
      ],
      "metadata": {
        "id": "W101AEFZiwL1"
      }
    },
    {
      "cell_type": "markdown",
      "source": [
        "1.  Higher glucose levels lead to increased cardiovascular disease risk across all age groups.\n",
        "2.  Active individuals generally show lower disease risk compared to inactive individuals.\n",
        "3.  Older age groups, especially 60+, have higher cardiovascular disease risk, regardless of activity or glucose levels.\n"
      ],
      "metadata": {
        "id": "enOn_Nfyi3jn"
      }
    },
    {
      "cell_type": "markdown",
      "source": [
        "**Improvement:**"
      ],
      "metadata": {
        "id": "Lz5XMJ-8iysC"
      }
    },
    {
      "cell_type": "markdown",
      "source": [
        "Separate overlapping bars for clearer distinction between active and inactive groups."
      ],
      "metadata": {
        "id": "_vZzmArai3wL"
      }
    }
  ]
}